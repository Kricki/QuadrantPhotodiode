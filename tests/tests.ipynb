{
 "cells": [
  {
   "cell_type": "code",
   "execution_count": 1,
   "metadata": {},
   "outputs": [],
   "source": [
    "import os\n",
    "import sys\n",
    "sys.path.insert(0, os.path.abspath('../'))\n",
    "import numpy as np\n",
    "import matplotlib.pyplot as plt\n",
    "import phytools\n",
    "\n",
    "from quadrantphotodiode import quadrantphotodiode"
   ]
  },
  {
   "cell_type": "code",
   "execution_count": 2,
   "metadata": {},
   "outputs": [],
   "source": [
    "qpd = quadrantphotodiode.QPD(size=5e-3, gap=40e-6, shape='circular')"
   ]
  },
  {
   "cell_type": "code",
   "execution_count": 3,
   "metadata": {},
   "outputs": [],
   "source": [
    "x, y = np.meshgrid(qpd.detector_x, qpd.detector_y)\n",
    "qpd.laser_intensity = phytools.functions.gaussian2d(x=x, y=y, a=1, x0=0, y0=0, fwhm_x=1e-3, fwhm_y=2e-3, offset=0)"
   ]
  },
  {
   "cell_type": "code",
   "execution_count": 4,
   "metadata": {},
   "outputs": [
    {
     "data": {
      "text/plain": [
       "<matplotlib.image.AxesImage at 0x7fb9ad8ce668>"
      ]
     },
     "execution_count": 4,
     "metadata": {},
     "output_type": "execute_result"
    },
    {
     "data": {
      "image/png": "[encoded data removed]",
      "text/plain": [
       "<Figure size 432x288 with 1 Axes>"
      ]
     },
     "metadata": {
      "needs_background": "light"
     },
     "output_type": "display_data"
    }
   ],
   "source": [
    "plt.imshow(qpd.detector_intensity)"
   ]
  },
  {
   "cell_type": "code",
   "execution_count": 5,
   "metadata": {},
   "outputs": [],
   "source": [
    "q1, q2, q3, q4 = qpd.quadrants"
   ]
  },
  {
   "cell_type": "code",
   "execution_count": 6,
   "metadata": {},
   "outputs": [
    {
     "data": {
      "text/plain": [
       "[21428.43862841223, 21428.539880328237, 21428.646678693774, 21428.747931591217]"
      ]
     },
     "execution_count": 6,
     "metadata": {},
     "output_type": "execute_result"
    }
   ],
   "source": [
    "qpd.quadrants"
   ]
  },
  {
   "cell_type": "code",
   "execution_count": 7,
   "metadata": {},
   "outputs": [
    {
     "data": {
      "text/plain": [
       "-1.1450114315123309e-11"
      ]
     },
     "execution_count": 7,
     "metadata": {},
     "output_type": "execute_result"
    }
   ],
   "source": [
    "qpd.x_pos"
   ]
  },
  {
   "cell_type": "code",
   "execution_count": 12,
   "metadata": {},
   "outputs": [
    {
     "data": {
      "text/plain": [
       "(1000, 1000)"
      ]
     },
     "execution_count": 12,
     "metadata": {},
     "output_type": "execute_result"
    }
   ],
   "source": [
    "np.shape(np.zeros((1000,1000)))"
   ]
  },
  {
   "cell_type": "code",
   "execution_count": 12,
   "metadata": {},
   "outputs": [],
   "source": [
    "diameter = 5e-3\n",
    "gap = 40e-6\n",
    "n = 1000\n",
    "roundoff = 1e-14\n",
    "    \n",
    "# The maximum possible gap size is sqrt(2)*Radius of detector;\n",
    "# raise an exception if this condition is violated:\n",
    "if gap >= np.sqrt(2) * diameter/2:\n",
    "    raise Exception('The gap is too large!')\n",
    "\n",
    "delta = diameter / n\n",
    "y, x = np.mgrid[-diameter / 2 + delta / 2: diameter / 2 + delta / 2: delta,\n",
    "                -diameter / 2 + delta / 2: diameter / 2 + delta / 2: delta]\n",
    "# This computes the distance of each grid point from the origin\n",
    "# and then we extract a masked array of points where r_sqr is less\n",
    "# than the distance of each grid point from the origin:\n",
    "r_sqr = x ** 2 + y ** 2\n",
    "\n",
    "inside = np.ma.getmask(np.ma.masked_where(r_sqr <= (diameter / 2) ** 2, x))\n",
    "\n",
    "# This portion takes care of masking out elements of the detector where\n",
    "# the gap exists. It returns an array of light intensity over the detector.\n",
    "\n",
    "all_dead = (np.abs(x) + delta / 2 - roundoff > gap / 2) \\\n",
    "    & (np.abs(y) + delta / 2 - roundoff > gap / 2)\n",
    "\n",
    "partial_dead_x_only = (np.abs(x) + delta / 2 - roundoff > gap / 2) & \\\n",
    "                      (np.abs(x) - delta / 2 - roundoff < gap / 2) & \\\n",
    "                      (np.abs(y) - delta / 2 - roundoff > gap / 2)\n",
    "partial_dead_y_only = (np.abs(y) + delta / 2 - roundoff > gap / 2) & \\\n",
    "                      (np.abs(y) - delta / 2 - roundoff < gap / 2) & \\\n",
    "                      (np.abs(x) - delta / 2 - roundoff > gap / 2)\n",
    "partial_dead_x_or_y = (1 / delta) * (np.abs(x) + delta / 2 - gap / 2) * partial_dead_x_only + \\\n",
    "                      (1 / delta) * (np.abs(y) + delta / 2 - gap / 2) * partial_dead_y_only\n",
    "\n",
    "partial_dead_x_and_y = (1 / delta ** 2) * (np.abs(x) + delta / 2 - gap / 2) ** 2 * \\\n",
    "                       (\n",
    "                        (np.abs(x) + delta / 2 - roundoff > gap / 2) &\n",
    "                        (np.abs(x) - delta / 2 - roundoff < gap / 2) &\n",
    "                        (np.abs(y) + delta / 2 - roundoff > gap / 2) &\n",
    "                        (np.abs(y) + delta / 2 - roundoff > gap / 2) &\n",
    "                        (np.abs(y) - delta / 2 - roundoff < gap / 2) &\n",
    "                        (np.abs(x) + delta / 2 - roundoff > gap / 2)\n",
    "                       )\n",
    "\n",
    "gap_mask = all_dead  # not strictly needed, but\n",
    "partial_mask = partial_dead_x_or_y + partial_dead_x_and_y\n",
    "partial_mask[partial_mask == 0] = 1\n",
    "detector_matrix = inside * gap_mask * partial_mask * delta ** 2"
   ]
  },
  {
   "cell_type": "code",
   "execution_count": 39,
   "metadata": {},
   "outputs": [
    {
     "data": {
      "text/plain": [
       "<matplotlib.image.AxesImage at 0x7fc2d5ba9e80>"
      ]
     },
     "execution_count": 39,
     "metadata": {},
     "output_type": "execute_result"
    },
    {
     "data": {
      "image/png": "[encoded data removed]",
      "text/plain": [
       "<Figure size 432x288 with 1 Axes>"
      ]
     },
     "metadata": {
      "needs_background": "light"
     },
     "output_type": "display_data"
    }
   ],
   "source": [
    "plt.imshow(x)"
   ]
  },
  {
   "cell_type": "code",
   "execution_count": 41,
   "metadata": {},
   "outputs": [
    {
     "data": {
      "text/plain": [
       "array([-2.4975e-03, -2.4925e-03, -2.4875e-03, -2.4825e-03, -2.4775e-03,\n",
       "       -2.4725e-03, -2.4675e-03, -2.4625e-03, -2.4575e-03, -2.4525e-03,\n",
       "       -2.4475e-03, -2.4425e-03, -2.4375e-03, -2.4325e-03, -2.4275e-03,\n",
       "       -2.4225e-03, -2.4175e-03, -2.4125e-03, -2.4075e-03, -2.4025e-03,\n",
       "       -2.3975e-03, -2.3925e-03, -2.3875e-03, -2.3825e-03, -2.3775e-03,\n",
       "       -2.3725e-03, -2.3675e-03, -2.3625e-03, -2.3575e-03, -2.3525e-03,\n",
       "       -2.3475e-03, -2.3425e-03, -2.3375e-03, -2.3325e-03, -2.3275e-03,\n",
       "       -2.3225e-03, -2.3175e-03, -2.3125e-03, -2.3075e-03, -2.3025e-03,\n",
       "       -2.2975e-03, -2.2925e-03, -2.2875e-03, -2.2825e-03, -2.2775e-03,\n",
       "       -2.2725e-03, -2.2675e-03, -2.2625e-03, -2.2575e-03, -2.2525e-03,\n",
       "       -2.2475e-03, -2.2425e-03, -2.2375e-03, -2.2325e-03, -2.2275e-03,\n",
       "       -2.2225e-03, -2.2175e-03, -2.2125e-03, -2.2075e-03, -2.2025e-03,\n",
       "       -2.1975e-03, -2.1925e-03, -2.1875e-03, -2.1825e-03, -2.1775e-03,\n",
       "       -2.1725e-03, -2.1675e-03, -2.1625e-03, -2.1575e-03, -2.1525e-03,\n",
       "       -2.1475e-03, -2.1425e-03, -2.1375e-03, -2.1325e-03, -2.1275e-03,\n",
       "       -2.1225e-03, -2.1175e-03, -2.1125e-03, -2.1075e-03, -2.1025e-03,\n",
       "       -2.0975e-03, -2.0925e-03, -2.0875e-03, -2.0825e-03, -2.0775e-03,\n",
       "       -2.0725e-03, -2.0675e-03, -2.0625e-03, -2.0575e-03, -2.0525e-03,\n",
       "       -2.0475e-03, -2.0425e-03, -2.0375e-03, -2.0325e-03, -2.0275e-03,\n",
       "       -2.0225e-03, -2.0175e-03, -2.0125e-03, -2.0075e-03, -2.0025e-03,\n",
       "       -1.9975e-03, -1.9925e-03, -1.9875e-03, -1.9825e-03, -1.9775e-03,\n",
       "       -1.9725e-03, -1.9675e-03, -1.9625e-03, -1.9575e-03, -1.9525e-03,\n",
       "       -1.9475e-03, -1.9425e-03, -1.9375e-03, -1.9325e-03, -1.9275e-03,\n",
       "       -1.9225e-03, -1.9175e-03, -1.9125e-03, -1.9075e-03, -1.9025e-03,\n",
       "       -1.8975e-03, -1.8925e-03, -1.8875e-03, -1.8825e-03, -1.8775e-03,\n",
       "       -1.8725e-03, -1.8675e-03, -1.8625e-03, -1.8575e-03, -1.8525e-03,\n",
       "       -1.8475e-03, -1.8425e-03, -1.8375e-03, -1.8325e-03, -1.8275e-03,\n",
       "       -1.8225e-03, -1.8175e-03, -1.8125e-03, -1.8075e-03, -1.8025e-03,\n",
       "       -1.7975e-03, -1.7925e-03, -1.7875e-03, -1.7825e-03, -1.7775e-03,\n",
       "       -1.7725e-03, -1.7675e-03, -1.7625e-03, -1.7575e-03, -1.7525e-03,\n",
       "       -1.7475e-03, -1.7425e-03, -1.7375e-03, -1.7325e-03, -1.7275e-03,\n",
       "       -1.7225e-03, -1.7175e-03, -1.7125e-03, -1.7075e-03, -1.7025e-03,\n",
       "       -1.6975e-03, -1.6925e-03, -1.6875e-03, -1.6825e-03, -1.6775e-03,\n",
       "       -1.6725e-03, -1.6675e-03, -1.6625e-03, -1.6575e-03, -1.6525e-03,\n",
       "       -1.6475e-03, -1.6425e-03, -1.6375e-03, -1.6325e-03, -1.6275e-03,\n",
       "       -1.6225e-03, -1.6175e-03, -1.6125e-03, -1.6075e-03, -1.6025e-03,\n",
       "       -1.5975e-03, -1.5925e-03, -1.5875e-03, -1.5825e-03, -1.5775e-03,\n",
       "       -1.5725e-03, -1.5675e-03, -1.5625e-03, -1.5575e-03, -1.5525e-03,\n",
       "       -1.5475e-03, -1.5425e-03, -1.5375e-03, -1.5325e-03, -1.5275e-03,\n",
       "       -1.5225e-03, -1.5175e-03, -1.5125e-03, -1.5075e-03, -1.5025e-03,\n",
       "       -1.4975e-03, -1.4925e-03, -1.4875e-03, -1.4825e-03, -1.4775e-03,\n",
       "       -1.4725e-03, -1.4675e-03, -1.4625e-03, -1.4575e-03, -1.4525e-03,\n",
       "       -1.4475e-03, -1.4425e-03, -1.4375e-03, -1.4325e-03, -1.4275e-03,\n",
       "       -1.4225e-03, -1.4175e-03, -1.4125e-03, -1.4075e-03, -1.4025e-03,\n",
       "       -1.3975e-03, -1.3925e-03, -1.3875e-03, -1.3825e-03, -1.3775e-03,\n",
       "       -1.3725e-03, -1.3675e-03, -1.3625e-03, -1.3575e-03, -1.3525e-03,\n",
       "       -1.3475e-03, -1.3425e-03, -1.3375e-03, -1.3325e-03, -1.3275e-03,\n",
       "       -1.3225e-03, -1.3175e-03, -1.3125e-03, -1.3075e-03, -1.3025e-03,\n",
       "       -1.2975e-03, -1.2925e-03, -1.2875e-03, -1.2825e-03, -1.2775e-03,\n",
       "       -1.2725e-03, -1.2675e-03, -1.2625e-03, -1.2575e-03, -1.2525e-03,\n",
       "       -1.2475e-03, -1.2425e-03, -1.2375e-03, -1.2325e-03, -1.2275e-03,\n",
       "       -1.2225e-03, -1.2175e-03, -1.2125e-03, -1.2075e-03, -1.2025e-03,\n",
       "       -1.1975e-03, -1.1925e-03, -1.1875e-03, -1.1825e-03, -1.1775e-03,\n",
       "       -1.1725e-03, -1.1675e-03, -1.1625e-03, -1.1575e-03, -1.1525e-03,\n",
       "       -1.1475e-03, -1.1425e-03, -1.1375e-03, -1.1325e-03, -1.1275e-03,\n",
       "       -1.1225e-03, -1.1175e-03, -1.1125e-03, -1.1075e-03, -1.1025e-03,\n",
       "       -1.0975e-03, -1.0925e-03, -1.0875e-03, -1.0825e-03, -1.0775e-03,\n",
       "       -1.0725e-03, -1.0675e-03, -1.0625e-03, -1.0575e-03, -1.0525e-03,\n",
       "       -1.0475e-03, -1.0425e-03, -1.0375e-03, -1.0325e-03, -1.0275e-03,\n",
       "       -1.0225e-03, -1.0175e-03, -1.0125e-03, -1.0075e-03, -1.0025e-03,\n",
       "       -9.9750e-04, -9.9250e-04, -9.8750e-04, -9.8250e-04, -9.7750e-04,\n",
       "       -9.7250e-04, -9.6750e-04, -9.6250e-04, -9.5750e-04, -9.5250e-04,\n",
       "       -9.4750e-04, -9.4250e-04, -9.3750e-04, -9.3250e-04, -9.2750e-04,\n",
       "       -9.2250e-04, -9.1750e-04, -9.1250e-04, -9.0750e-04, -9.0250e-04,\n",
       "       -8.9750e-04, -8.9250e-04, -8.8750e-04, -8.8250e-04, -8.7750e-04,\n",
       "       -8.7250e-04, -8.6750e-04, -8.6250e-04, -8.5750e-04, -8.5250e-04,\n",
       "       -8.4750e-04, -8.4250e-04, -8.3750e-04, -8.3250e-04, -8.2750e-04,\n",
       "       -8.2250e-04, -8.1750e-04, -8.1250e-04, -8.0750e-04, -8.0250e-04,\n",
       "       -7.9750e-04, -7.9250e-04, -7.8750e-04, -7.8250e-04, -7.7750e-04,\n",
       "       -7.7250e-04, -7.6750e-04, -7.6250e-04, -7.5750e-04, -7.5250e-04,\n",
       "       -7.4750e-04, -7.4250e-04, -7.3750e-04, -7.3250e-04, -7.2750e-04,\n",
       "       -7.2250e-04, -7.1750e-04, -7.1250e-04, -7.0750e-04, -7.0250e-04,\n",
       "       -6.9750e-04, -6.9250e-04, -6.8750e-04, -6.8250e-04, -6.7750e-04,\n",
       "       -6.7250e-04, -6.6750e-04, -6.6250e-04, -6.5750e-04, -6.5250e-04,\n",
       "       -6.4750e-04, -6.4250e-04, -6.3750e-04, -6.3250e-04, -6.2750e-04,\n",
       "       -6.2250e-04, -6.1750e-04, -6.1250e-04, -6.0750e-04, -6.0250e-04,\n",
       "       -5.9750e-04, -5.9250e-04, -5.8750e-04, -5.8250e-04, -5.7750e-04,\n",
       "       -5.7250e-04, -5.6750e-04, -5.6250e-04, -5.5750e-04, -5.5250e-04,\n",
       "       -5.4750e-04, -5.4250e-04, -5.3750e-04, -5.3250e-04, -5.2750e-04,\n",
       "       -5.2250e-04, -5.1750e-04, -5.1250e-04, -5.0750e-04, -5.0250e-04,\n",
       "       -4.9750e-04, -4.9250e-04, -4.8750e-04, -4.8250e-04, -4.7750e-04,\n",
       "       -4.7250e-04, -4.6750e-04, -4.6250e-04, -4.5750e-04, -4.5250e-04,\n",
       "       -4.4750e-04, -4.4250e-04, -4.3750e-04, -4.3250e-04, -4.2750e-04,\n",
       "       -4.2250e-04, -4.1750e-04, -4.1250e-04, -4.0750e-04, -4.0250e-04,\n",
       "       -3.9750e-04, -3.9250e-04, -3.8750e-04, -3.8250e-04, -3.7750e-04,\n",
       "       -3.7250e-04, -3.6750e-04, -3.6250e-04, -3.5750e-04, -3.5250e-04,\n",
       "       -3.4750e-04, -3.4250e-04, -3.3750e-04, -3.3250e-04, -3.2750e-04,\n",
       "       -3.2250e-04, -3.1750e-04, -3.1250e-04, -3.0750e-04, -3.0250e-04,\n",
       "       -2.9750e-04, -2.9250e-04, -2.8750e-04, -2.8250e-04, -2.7750e-04,\n",
       "       -2.7250e-04, -2.6750e-04, -2.6250e-04, -2.5750e-04, -2.5250e-04,\n",
       "       -2.4750e-04, -2.4250e-04, -2.3750e-04, -2.3250e-04, -2.2750e-04,\n",
       "       -2.2250e-04, -2.1750e-04, -2.1250e-04, -2.0750e-04, -2.0250e-04,\n",
       "       -1.9750e-04, -1.9250e-04, -1.8750e-04, -1.8250e-04, -1.7750e-04,\n",
       "       -1.7250e-04, -1.6750e-04, -1.6250e-04, -1.5750e-04, -1.5250e-04,\n",
       "       -1.4750e-04, -1.4250e-04, -1.3750e-04, -1.3250e-04, -1.2750e-04,\n",
       "       -1.2250e-04, -1.1750e-04, -1.1250e-04, -1.0750e-04, -1.0250e-04,\n",
       "       -9.7500e-05, -9.2500e-05, -8.7500e-05, -8.2500e-05, -7.7500e-05,\n",
       "       -7.2500e-05, -6.7500e-05, -6.2500e-05, -5.7500e-05, -5.2500e-05,\n",
       "       -4.7500e-05, -4.2500e-05, -3.7500e-05, -3.2500e-05, -2.7500e-05,\n",
       "       -2.2500e-05, -1.7500e-05, -1.2500e-05, -7.5000e-06, -2.5000e-06,\n",
       "        2.5000e-06,  7.5000e-06,  1.2500e-05,  1.7500e-05,  2.2500e-05,\n",
       "        2.7500e-05,  3.2500e-05,  3.7500e-05,  4.2500e-05,  4.7500e-05,\n",
       "        5.2500e-05,  5.7500e-05,  6.2500e-05,  6.7500e-05,  7.2500e-05,\n",
       "        7.7500e-05,  8.2500e-05,  8.7500e-05,  9.2500e-05,  9.7500e-05,\n",
       "        1.0250e-04,  1.0750e-04,  1.1250e-04,  1.1750e-04,  1.2250e-04,\n",
       "        1.2750e-04,  1.3250e-04,  1.3750e-04,  1.4250e-04,  1.4750e-04,\n",
       "        1.5250e-04,  1.5750e-04,  1.6250e-04,  1.6750e-04,  1.7250e-04,\n",
       "        1.7750e-04,  1.8250e-04,  1.8750e-04,  1.9250e-04,  1.9750e-04,\n",
       "        2.0250e-04,  2.0750e-04,  2.1250e-04,  2.1750e-04,  2.2250e-04,\n",
       "        2.2750e-04,  2.3250e-04,  2.3750e-04,  2.4250e-04,  2.4750e-04,\n",
       "        2.5250e-04,  2.5750e-04,  2.6250e-04,  2.6750e-04,  2.7250e-04,\n",
       "        2.7750e-04,  2.8250e-04,  2.8750e-04,  2.9250e-04,  2.9750e-04,\n",
       "        3.0250e-04,  3.0750e-04,  3.1250e-04,  3.1750e-04,  3.2250e-04,\n",
       "        3.2750e-04,  3.3250e-04,  3.3750e-04,  3.4250e-04,  3.4750e-04,\n",
       "        3.5250e-04,  3.5750e-04,  3.6250e-04,  3.6750e-04,  3.7250e-04,\n",
       "        3.7750e-04,  3.8250e-04,  3.8750e-04,  3.9250e-04,  3.9750e-04,\n",
       "        4.0250e-04,  4.0750e-04,  4.1250e-04,  4.1750e-04,  4.2250e-04,\n",
       "        4.2750e-04,  4.3250e-04,  4.3750e-04,  4.4250e-04,  4.4750e-04,\n",
       "        4.5250e-04,  4.5750e-04,  4.6250e-04,  4.6750e-04,  4.7250e-04,\n",
       "        4.7750e-04,  4.8250e-04,  4.8750e-04,  4.9250e-04,  4.9750e-04,\n",
       "        5.0250e-04,  5.0750e-04,  5.1250e-04,  5.1750e-04,  5.2250e-04,\n",
       "        5.2750e-04,  5.3250e-04,  5.3750e-04,  5.4250e-04,  5.4750e-04,\n",
       "        5.5250e-04,  5.5750e-04,  5.6250e-04,  5.6750e-04,  5.7250e-04,\n",
       "        5.7750e-04,  5.8250e-04,  5.8750e-04,  5.9250e-04,  5.9750e-04,\n",
       "        6.0250e-04,  6.0750e-04,  6.1250e-04,  6.1750e-04,  6.2250e-04,\n",
       "        6.2750e-04,  6.3250e-04,  6.3750e-04,  6.4250e-04,  6.4750e-04,\n",
       "        6.5250e-04,  6.5750e-04,  6.6250e-04,  6.6750e-04,  6.7250e-04,\n",
       "        6.7750e-04,  6.8250e-04,  6.8750e-04,  6.9250e-04,  6.9750e-04,\n",
       "        7.0250e-04,  7.0750e-04,  7.1250e-04,  7.1750e-04,  7.2250e-04,\n",
       "        7.2750e-04,  7.3250e-04,  7.3750e-04,  7.4250e-04,  7.4750e-04,\n",
       "        7.5250e-04,  7.5750e-04,  7.6250e-04,  7.6750e-04,  7.7250e-04,\n",
       "        7.7750e-04,  7.8250e-04,  7.8750e-04,  7.9250e-04,  7.9750e-04,\n",
       "        8.0250e-04,  8.0750e-04,  8.1250e-04,  8.1750e-04,  8.2250e-04,\n",
       "        8.2750e-04,  8.3250e-04,  8.3750e-04,  8.4250e-04,  8.4750e-04,\n",
       "        8.5250e-04,  8.5750e-04,  8.6250e-04,  8.6750e-04,  8.7250e-04,\n",
       "        8.7750e-04,  8.8250e-04,  8.8750e-04,  8.9250e-04,  8.9750e-04,\n",
       "        9.0250e-04,  9.0750e-04,  9.1250e-04,  9.1750e-04,  9.2250e-04,\n",
       "        9.2750e-04,  9.3250e-04,  9.3750e-04,  9.4250e-04,  9.4750e-04,\n",
       "        9.5250e-04,  9.5750e-04,  9.6250e-04,  9.6750e-04,  9.7250e-04,\n",
       "        9.7750e-04,  9.8250e-04,  9.8750e-04,  9.9250e-04,  9.9750e-04,\n",
       "        1.0025e-03,  1.0075e-03,  1.0125e-03,  1.0175e-03,  1.0225e-03,\n",
       "        1.0275e-03,  1.0325e-03,  1.0375e-03,  1.0425e-03,  1.0475e-03,\n",
       "        1.0525e-03,  1.0575e-03,  1.0625e-03,  1.0675e-03,  1.0725e-03,\n",
       "        1.0775e-03,  1.0825e-03,  1.0875e-03,  1.0925e-03,  1.0975e-03,\n",
       "        1.1025e-03,  1.1075e-03,  1.1125e-03,  1.1175e-03,  1.1225e-03,\n",
       "        1.1275e-03,  1.1325e-03,  1.1375e-03,  1.1425e-03,  1.1475e-03,\n",
       "        1.1525e-03,  1.1575e-03,  1.1625e-03,  1.1675e-03,  1.1725e-03,\n",
       "        1.1775e-03,  1.1825e-03,  1.1875e-03,  1.1925e-03,  1.1975e-03,\n",
       "        1.2025e-03,  1.2075e-03,  1.2125e-03,  1.2175e-03,  1.2225e-03,\n",
       "        1.2275e-03,  1.2325e-03,  1.2375e-03,  1.2425e-03,  1.2475e-03,\n",
       "        1.2525e-03,  1.2575e-03,  1.2625e-03,  1.2675e-03,  1.2725e-03,\n",
       "        1.2775e-03,  1.2825e-03,  1.2875e-03,  1.2925e-03,  1.2975e-03,\n",
       "        1.3025e-03,  1.3075e-03,  1.3125e-03,  1.3175e-03,  1.3225e-03,\n",
       "        1.3275e-03,  1.3325e-03,  1.3375e-03,  1.3425e-03,  1.3475e-03,\n",
       "        1.3525e-03,  1.3575e-03,  1.3625e-03,  1.3675e-03,  1.3725e-03,\n",
       "        1.3775e-03,  1.3825e-03,  1.3875e-03,  1.3925e-03,  1.3975e-03,\n",
       "        1.4025e-03,  1.4075e-03,  1.4125e-03,  1.4175e-03,  1.4225e-03,\n",
       "        1.4275e-03,  1.4325e-03,  1.4375e-03,  1.4425e-03,  1.4475e-03,\n",
       "        1.4525e-03,  1.4575e-03,  1.4625e-03,  1.4675e-03,  1.4725e-03,\n",
       "        1.4775e-03,  1.4825e-03,  1.4875e-03,  1.4925e-03,  1.4975e-03,\n",
       "        1.5025e-03,  1.5075e-03,  1.5125e-03,  1.5175e-03,  1.5225e-03,\n",
       "        1.5275e-03,  1.5325e-03,  1.5375e-03,  1.5425e-03,  1.5475e-03,\n",
       "        1.5525e-03,  1.5575e-03,  1.5625e-03,  1.5675e-03,  1.5725e-03,\n",
       "        1.5775e-03,  1.5825e-03,  1.5875e-03,  1.5925e-03,  1.5975e-03,\n",
       "        1.6025e-03,  1.6075e-03,  1.6125e-03,  1.6175e-03,  1.6225e-03,\n",
       "        1.6275e-03,  1.6325e-03,  1.6375e-03,  1.6425e-03,  1.6475e-03,\n",
       "        1.6525e-03,  1.6575e-03,  1.6625e-03,  1.6675e-03,  1.6725e-03,\n",
       "        1.6775e-03,  1.6825e-03,  1.6875e-03,  1.6925e-03,  1.6975e-03,\n",
       "        1.7025e-03,  1.7075e-03,  1.7125e-03,  1.7175e-03,  1.7225e-03,\n",
       "        1.7275e-03,  1.7325e-03,  1.7375e-03,  1.7425e-03,  1.7475e-03,\n",
       "        1.7525e-03,  1.7575e-03,  1.7625e-03,  1.7675e-03,  1.7725e-03,\n",
       "        1.7775e-03,  1.7825e-03,  1.7875e-03,  1.7925e-03,  1.7975e-03,\n",
       "        1.8025e-03,  1.8075e-03,  1.8125e-03,  1.8175e-03,  1.8225e-03,\n",
       "        1.8275e-03,  1.8325e-03,  1.8375e-03,  1.8425e-03,  1.8475e-03,\n",
       "        1.8525e-03,  1.8575e-03,  1.8625e-03,  1.8675e-03,  1.8725e-03,\n",
       "        1.8775e-03,  1.8825e-03,  1.8875e-03,  1.8925e-03,  1.8975e-03,\n",
       "        1.9025e-03,  1.9075e-03,  1.9125e-03,  1.9175e-03,  1.9225e-03,\n",
       "        1.9275e-03,  1.9325e-03,  1.9375e-03,  1.9425e-03,  1.9475e-03,\n",
       "        1.9525e-03,  1.9575e-03,  1.9625e-03,  1.9675e-03,  1.9725e-03,\n",
       "        1.9775e-03,  1.9825e-03,  1.9875e-03,  1.9925e-03,  1.9975e-03,\n",
       "        2.0025e-03,  2.0075e-03,  2.0125e-03,  2.0175e-03,  2.0225e-03,\n",
       "        2.0275e-03,  2.0325e-03,  2.0375e-03,  2.0425e-03,  2.0475e-03,\n",
       "        2.0525e-03,  2.0575e-03,  2.0625e-03,  2.0675e-03,  2.0725e-03,\n",
       "        2.0775e-03,  2.0825e-03,  2.0875e-03,  2.0925e-03,  2.0975e-03,\n",
       "        2.1025e-03,  2.1075e-03,  2.1125e-03,  2.1175e-03,  2.1225e-03,\n",
       "        2.1275e-03,  2.1325e-03,  2.1375e-03,  2.1425e-03,  2.1475e-03,\n",
       "        2.1525e-03,  2.1575e-03,  2.1625e-03,  2.1675e-03,  2.1725e-03,\n",
       "        2.1775e-03,  2.1825e-03,  2.1875e-03,  2.1925e-03,  2.1975e-03,\n",
       "        2.2025e-03,  2.2075e-03,  2.2125e-03,  2.2175e-03,  2.2225e-03,\n",
       "        2.2275e-03,  2.2325e-03,  2.2375e-03,  2.2425e-03,  2.2475e-03,\n",
       "        2.2525e-03,  2.2575e-03,  2.2625e-03,  2.2675e-03,  2.2725e-03,\n",
       "        2.2775e-03,  2.2825e-03,  2.2875e-03,  2.2925e-03,  2.2975e-03,\n",
       "        2.3025e-03,  2.3075e-03,  2.3125e-03,  2.3175e-03,  2.3225e-03,\n",
       "        2.3275e-03,  2.3325e-03,  2.3375e-03,  2.3425e-03,  2.3475e-03,\n",
       "        2.3525e-03,  2.3575e-03,  2.3625e-03,  2.3675e-03,  2.3725e-03,\n",
       "        2.3775e-03,  2.3825e-03,  2.3875e-03,  2.3925e-03,  2.3975e-03,\n",
       "        2.4025e-03,  2.4075e-03,  2.4125e-03,  2.4175e-03,  2.4225e-03,\n",
       "        2.4275e-03,  2.4325e-03,  2.4375e-03,  2.4425e-03,  2.4475e-03,\n",
       "        2.4525e-03,  2.4575e-03,  2.4625e-03,  2.4675e-03,  2.4725e-03,\n",
       "        2.4775e-03,  2.4825e-03,  2.4875e-03,  2.4925e-03,  2.4975e-03])"
      ]
     },
     "execution_count": 41,
     "metadata": {},
     "output_type": "execute_result"
    }
   ],
   "source": [
    "x[0,:]"
   ]
  },
  {
   "cell_type": "code",
   "execution_count": 42,
   "metadata": {},
   "outputs": [
    {
     "data": {
      "text/plain": [
       "array([-2.4975e-03, -2.4925e-03, -2.4875e-03, -2.4825e-03, -2.4775e-03,\n",
       "       -2.4725e-03, -2.4675e-03, -2.4625e-03, -2.4575e-03, -2.4525e-03,\n",
       "       -2.4475e-03, -2.4425e-03, -2.4375e-03, -2.4325e-03, -2.4275e-03,\n",
       "       -2.4225e-03, -2.4175e-03, -2.4125e-03, -2.4075e-03, -2.4025e-03,\n",
       "       -2.3975e-03, -2.3925e-03, -2.3875e-03, -2.3825e-03, -2.3775e-03,\n",
       "       -2.3725e-03, -2.3675e-03, -2.3625e-03, -2.3575e-03, -2.3525e-03,\n",
       "       -2.3475e-03, -2.3425e-03, -2.3375e-03, -2.3325e-03, -2.3275e-03,\n",
       "       -2.3225e-03, -2.3175e-03, -2.3125e-03, -2.3075e-03, -2.3025e-03,\n",
       "       -2.2975e-03, -2.2925e-03, -2.2875e-03, -2.2825e-03, -2.2775e-03,\n",
       "       -2.2725e-03, -2.2675e-03, -2.2625e-03, -2.2575e-03, -2.2525e-03,\n",
       "       -2.2475e-03, -2.2425e-03, -2.2375e-03, -2.2325e-03, -2.2275e-03,\n",
       "       -2.2225e-03, -2.2175e-03, -2.2125e-03, -2.2075e-03, -2.2025e-03,\n",
       "       -2.1975e-03, -2.1925e-03, -2.1875e-03, -2.1825e-03, -2.1775e-03,\n",
       "       -2.1725e-03, -2.1675e-03, -2.1625e-03, -2.1575e-03, -2.1525e-03,\n",
       "       -2.1475e-03, -2.1425e-03, -2.1375e-03, -2.1325e-03, -2.1275e-03,\n",
       "       -2.1225e-03, -2.1175e-03, -2.1125e-03, -2.1075e-03, -2.1025e-03,\n",
       "       -2.0975e-03, -2.0925e-03, -2.0875e-03, -2.0825e-03, -2.0775e-03,\n",
       "       -2.0725e-03, -2.0675e-03, -2.0625e-03, -2.0575e-03, -2.0525e-03,\n",
       "       -2.0475e-03, -2.0425e-03, -2.0375e-03, -2.0325e-03, -2.0275e-03,\n",
       "       -2.0225e-03, -2.0175e-03, -2.0125e-03, -2.0075e-03, -2.0025e-03,\n",
       "       -1.9975e-03, -1.9925e-03, -1.9875e-03, -1.9825e-03, -1.9775e-03,\n",
       "       -1.9725e-03, -1.9675e-03, -1.9625e-03, -1.9575e-03, -1.9525e-03,\n",
       "       -1.9475e-03, -1.9425e-03, -1.9375e-03, -1.9325e-03, -1.9275e-03,\n",
       "       -1.9225e-03, -1.9175e-03, -1.9125e-03, -1.9075e-03, -1.9025e-03,\n",
       "       -1.8975e-03, -1.8925e-03, -1.8875e-03, -1.8825e-03, -1.8775e-03,\n",
       "       -1.8725e-03, -1.8675e-03, -1.8625e-03, -1.8575e-03, -1.8525e-03,\n",
       "       -1.8475e-03, -1.8425e-03, -1.8375e-03, -1.8325e-03, -1.8275e-03,\n",
       "       -1.8225e-03, -1.8175e-03, -1.8125e-03, -1.8075e-03, -1.8025e-03,\n",
       "       -1.7975e-03, -1.7925e-03, -1.7875e-03, -1.7825e-03, -1.7775e-03,\n",
       "       -1.7725e-03, -1.7675e-03, -1.7625e-03, -1.7575e-03, -1.7525e-03,\n",
       "       -1.7475e-03, -1.7425e-03, -1.7375e-03, -1.7325e-03, -1.7275e-03,\n",
       "       -1.7225e-03, -1.7175e-03, -1.7125e-03, -1.7075e-03, -1.7025e-03,\n",
       "       -1.6975e-03, -1.6925e-03, -1.6875e-03, -1.6825e-03, -1.6775e-03,\n",
       "       -1.6725e-03, -1.6675e-03, -1.6625e-03, -1.6575e-03, -1.6525e-03,\n",
       "       -1.6475e-03, -1.6425e-03, -1.6375e-03, -1.6325e-03, -1.6275e-03,\n",
       "       -1.6225e-03, -1.6175e-03, -1.6125e-03, -1.6075e-03, -1.6025e-03,\n",
       "       -1.5975e-03, -1.5925e-03, -1.5875e-03, -1.5825e-03, -1.5775e-03,\n",
       "       -1.5725e-03, -1.5675e-03, -1.5625e-03, -1.5575e-03, -1.5525e-03,\n",
       "       -1.5475e-03, -1.5425e-03, -1.5375e-03, -1.5325e-03, -1.5275e-03,\n",
       "       -1.5225e-03, -1.5175e-03, -1.5125e-03, -1.5075e-03, -1.5025e-03,\n",
       "       -1.4975e-03, -1.4925e-03, -1.4875e-03, -1.4825e-03, -1.4775e-03,\n",
       "       -1.4725e-03, -1.4675e-03, -1.4625e-03, -1.4575e-03, -1.4525e-03,\n",
       "       -1.4475e-03, -1.4425e-03, -1.4375e-03, -1.4325e-03, -1.4275e-03,\n",
       "       -1.4225e-03, -1.4175e-03, -1.4125e-03, -1.4075e-03, -1.4025e-03,\n",
       "       -1.3975e-03, -1.3925e-03, -1.3875e-03, -1.3825e-03, -1.3775e-03,\n",
       "       -1.3725e-03, -1.3675e-03, -1.3625e-03, -1.3575e-03, -1.3525e-03,\n",
       "       -1.3475e-03, -1.3425e-03, -1.3375e-03, -1.3325e-03, -1.3275e-03,\n",
       "       -1.3225e-03, -1.3175e-03, -1.3125e-03, -1.3075e-03, -1.3025e-03,\n",
       "       -1.2975e-03, -1.2925e-03, -1.2875e-03, -1.2825e-03, -1.2775e-03,\n",
       "       -1.2725e-03, -1.2675e-03, -1.2625e-03, -1.2575e-03, -1.2525e-03,\n",
       "       -1.2475e-03, -1.2425e-03, -1.2375e-03, -1.2325e-03, -1.2275e-03,\n",
       "       -1.2225e-03, -1.2175e-03, -1.2125e-03, -1.2075e-03, -1.2025e-03,\n",
       "       -1.1975e-03, -1.1925e-03, -1.1875e-03, -1.1825e-03, -1.1775e-03,\n",
       "       -1.1725e-03, -1.1675e-03, -1.1625e-03, -1.1575e-03, -1.1525e-03,\n",
       "       -1.1475e-03, -1.1425e-03, -1.1375e-03, -1.1325e-03, -1.1275e-03,\n",
       "       -1.1225e-03, -1.1175e-03, -1.1125e-03, -1.1075e-03, -1.1025e-03,\n",
       "       -1.0975e-03, -1.0925e-03, -1.0875e-03, -1.0825e-03, -1.0775e-03,\n",
       "       -1.0725e-03, -1.0675e-03, -1.0625e-03, -1.0575e-03, -1.0525e-03,\n",
       "       -1.0475e-03, -1.0425e-03, -1.0375e-03, -1.0325e-03, -1.0275e-03,\n",
       "       -1.0225e-03, -1.0175e-03, -1.0125e-03, -1.0075e-03, -1.0025e-03,\n",
       "       -9.9750e-04, -9.9250e-04, -9.8750e-04, -9.8250e-04, -9.7750e-04,\n",
       "       -9.7250e-04, -9.6750e-04, -9.6250e-04, -9.5750e-04, -9.5250e-04,\n",
       "       -9.4750e-04, -9.4250e-04, -9.3750e-04, -9.3250e-04, -9.2750e-04,\n",
       "       -9.2250e-04, -9.1750e-04, -9.1250e-04, -9.0750e-04, -9.0250e-04,\n",
       "       -8.9750e-04, -8.9250e-04, -8.8750e-04, -8.8250e-04, -8.7750e-04,\n",
       "       -8.7250e-04, -8.6750e-04, -8.6250e-04, -8.5750e-04, -8.5250e-04,\n",
       "       -8.4750e-04, -8.4250e-04, -8.3750e-04, -8.3250e-04, -8.2750e-04,\n",
       "       -8.2250e-04, -8.1750e-04, -8.1250e-04, -8.0750e-04, -8.0250e-04,\n",
       "       -7.9750e-04, -7.9250e-04, -7.8750e-04, -7.8250e-04, -7.7750e-04,\n",
       "       -7.7250e-04, -7.6750e-04, -7.6250e-04, -7.5750e-04, -7.5250e-04,\n",
       "       -7.4750e-04, -7.4250e-04, -7.3750e-04, -7.3250e-04, -7.2750e-04,\n",
       "       -7.2250e-04, -7.1750e-04, -7.1250e-04, -7.0750e-04, -7.0250e-04,\n",
       "       -6.9750e-04, -6.9250e-04, -6.8750e-04, -6.8250e-04, -6.7750e-04,\n",
       "       -6.7250e-04, -6.6750e-04, -6.6250e-04, -6.5750e-04, -6.5250e-04,\n",
       "       -6.4750e-04, -6.4250e-04, -6.3750e-04, -6.3250e-04, -6.2750e-04,\n",
       "       -6.2250e-04, -6.1750e-04, -6.1250e-04, -6.0750e-04, -6.0250e-04,\n",
       "       -5.9750e-04, -5.9250e-04, -5.8750e-04, -5.8250e-04, -5.7750e-04,\n",
       "       -5.7250e-04, -5.6750e-04, -5.6250e-04, -5.5750e-04, -5.5250e-04,\n",
       "       -5.4750e-04, -5.4250e-04, -5.3750e-04, -5.3250e-04, -5.2750e-04,\n",
       "       -5.2250e-04, -5.1750e-04, -5.1250e-04, -5.0750e-04, -5.0250e-04,\n",
       "       -4.9750e-04, -4.9250e-04, -4.8750e-04, -4.8250e-04, -4.7750e-04,\n",
       "       -4.7250e-04, -4.6750e-04, -4.6250e-04, -4.5750e-04, -4.5250e-04,\n",
       "       -4.4750e-04, -4.4250e-04, -4.3750e-04, -4.3250e-04, -4.2750e-04,\n",
       "       -4.2250e-04, -4.1750e-04, -4.1250e-04, -4.0750e-04, -4.0250e-04,\n",
       "       -3.9750e-04, -3.9250e-04, -3.8750e-04, -3.8250e-04, -3.7750e-04,\n",
       "       -3.7250e-04, -3.6750e-04, -3.6250e-04, -3.5750e-04, -3.5250e-04,\n",
       "       -3.4750e-04, -3.4250e-04, -3.3750e-04, -3.3250e-04, -3.2750e-04,\n",
       "       -3.2250e-04, -3.1750e-04, -3.1250e-04, -3.0750e-04, -3.0250e-04,\n",
       "       -2.9750e-04, -2.9250e-04, -2.8750e-04, -2.8250e-04, -2.7750e-04,\n",
       "       -2.7250e-04, -2.6750e-04, -2.6250e-04, -2.5750e-04, -2.5250e-04,\n",
       "       -2.4750e-04, -2.4250e-04, -2.3750e-04, -2.3250e-04, -2.2750e-04,\n",
       "       -2.2250e-04, -2.1750e-04, -2.1250e-04, -2.0750e-04, -2.0250e-04,\n",
       "       -1.9750e-04, -1.9250e-04, -1.8750e-04, -1.8250e-04, -1.7750e-04,\n",
       "       -1.7250e-04, -1.6750e-04, -1.6250e-04, -1.5750e-04, -1.5250e-04,\n",
       "       -1.4750e-04, -1.4250e-04, -1.3750e-04, -1.3250e-04, -1.2750e-04,\n",
       "       -1.2250e-04, -1.1750e-04, -1.1250e-04, -1.0750e-04, -1.0250e-04,\n",
       "       -9.7500e-05, -9.2500e-05, -8.7500e-05, -8.2500e-05, -7.7500e-05,\n",
       "       -7.2500e-05, -6.7500e-05, -6.2500e-05, -5.7500e-05, -5.2500e-05,\n",
       "       -4.7500e-05, -4.2500e-05, -3.7500e-05, -3.2500e-05, -2.7500e-05,\n",
       "       -2.2500e-05, -1.7500e-05, -1.2500e-05, -7.5000e-06, -2.5000e-06,\n",
       "        2.5000e-06,  7.5000e-06,  1.2500e-05,  1.7500e-05,  2.2500e-05,\n",
       "        2.7500e-05,  3.2500e-05,  3.7500e-05,  4.2500e-05,  4.7500e-05,\n",
       "        5.2500e-05,  5.7500e-05,  6.2500e-05,  6.7500e-05,  7.2500e-05,\n",
       "        7.7500e-05,  8.2500e-05,  8.7500e-05,  9.2500e-05,  9.7500e-05,\n",
       "        1.0250e-04,  1.0750e-04,  1.1250e-04,  1.1750e-04,  1.2250e-04,\n",
       "        1.2750e-04,  1.3250e-04,  1.3750e-04,  1.4250e-04,  1.4750e-04,\n",
       "        1.5250e-04,  1.5750e-04,  1.6250e-04,  1.6750e-04,  1.7250e-04,\n",
       "        1.7750e-04,  1.8250e-04,  1.8750e-04,  1.9250e-04,  1.9750e-04,\n",
       "        2.0250e-04,  2.0750e-04,  2.1250e-04,  2.1750e-04,  2.2250e-04,\n",
       "        2.2750e-04,  2.3250e-04,  2.3750e-04,  2.4250e-04,  2.4750e-04,\n",
       "        2.5250e-04,  2.5750e-04,  2.6250e-04,  2.6750e-04,  2.7250e-04,\n",
       "        2.7750e-04,  2.8250e-04,  2.8750e-04,  2.9250e-04,  2.9750e-04,\n",
       "        3.0250e-04,  3.0750e-04,  3.1250e-04,  3.1750e-04,  3.2250e-04,\n",
       "        3.2750e-04,  3.3250e-04,  3.3750e-04,  3.4250e-04,  3.4750e-04,\n",
       "        3.5250e-04,  3.5750e-04,  3.6250e-04,  3.6750e-04,  3.7250e-04,\n",
       "        3.7750e-04,  3.8250e-04,  3.8750e-04,  3.9250e-04,  3.9750e-04,\n",
       "        4.0250e-04,  4.0750e-04,  4.1250e-04,  4.1750e-04,  4.2250e-04,\n",
       "        4.2750e-04,  4.3250e-04,  4.3750e-04,  4.4250e-04,  4.4750e-04,\n",
       "        4.5250e-04,  4.5750e-04,  4.6250e-04,  4.6750e-04,  4.7250e-04,\n",
       "        4.7750e-04,  4.8250e-04,  4.8750e-04,  4.9250e-04,  4.9750e-04,\n",
       "        5.0250e-04,  5.0750e-04,  5.1250e-04,  5.1750e-04,  5.2250e-04,\n",
       "        5.2750e-04,  5.3250e-04,  5.3750e-04,  5.4250e-04,  5.4750e-04,\n",
       "        5.5250e-04,  5.5750e-04,  5.6250e-04,  5.6750e-04,  5.7250e-04,\n",
       "        5.7750e-04,  5.8250e-04,  5.8750e-04,  5.9250e-04,  5.9750e-04,\n",
       "        6.0250e-04,  6.0750e-04,  6.1250e-04,  6.1750e-04,  6.2250e-04,\n",
       "        6.2750e-04,  6.3250e-04,  6.3750e-04,  6.4250e-04,  6.4750e-04,\n",
       "        6.5250e-04,  6.5750e-04,  6.6250e-04,  6.6750e-04,  6.7250e-04,\n",
       "        6.7750e-04,  6.8250e-04,  6.8750e-04,  6.9250e-04,  6.9750e-04,\n",
       "        7.0250e-04,  7.0750e-04,  7.1250e-04,  7.1750e-04,  7.2250e-04,\n",
       "        7.2750e-04,  7.3250e-04,  7.3750e-04,  7.4250e-04,  7.4750e-04,\n",
       "        7.5250e-04,  7.5750e-04,  7.6250e-04,  7.6750e-04,  7.7250e-04,\n",
       "        7.7750e-04,  7.8250e-04,  7.8750e-04,  7.9250e-04,  7.9750e-04,\n",
       "        8.0250e-04,  8.0750e-04,  8.1250e-04,  8.1750e-04,  8.2250e-04,\n",
       "        8.2750e-04,  8.3250e-04,  8.3750e-04,  8.4250e-04,  8.4750e-04,\n",
       "        8.5250e-04,  8.5750e-04,  8.6250e-04,  8.6750e-04,  8.7250e-04,\n",
       "        8.7750e-04,  8.8250e-04,  8.8750e-04,  8.9250e-04,  8.9750e-04,\n",
       "        9.0250e-04,  9.0750e-04,  9.1250e-04,  9.1750e-04,  9.2250e-04,\n",
       "        9.2750e-04,  9.3250e-04,  9.3750e-04,  9.4250e-04,  9.4750e-04,\n",
       "        9.5250e-04,  9.5750e-04,  9.6250e-04,  9.6750e-04,  9.7250e-04,\n",
       "        9.7750e-04,  9.8250e-04,  9.8750e-04,  9.9250e-04,  9.9750e-04,\n",
       "        1.0025e-03,  1.0075e-03,  1.0125e-03,  1.0175e-03,  1.0225e-03,\n",
       "        1.0275e-03,  1.0325e-03,  1.0375e-03,  1.0425e-03,  1.0475e-03,\n",
       "        1.0525e-03,  1.0575e-03,  1.0625e-03,  1.0675e-03,  1.0725e-03,\n",
       "        1.0775e-03,  1.0825e-03,  1.0875e-03,  1.0925e-03,  1.0975e-03,\n",
       "        1.1025e-03,  1.1075e-03,  1.1125e-03,  1.1175e-03,  1.1225e-03,\n",
       "        1.1275e-03,  1.1325e-03,  1.1375e-03,  1.1425e-03,  1.1475e-03,\n",
       "        1.1525e-03,  1.1575e-03,  1.1625e-03,  1.1675e-03,  1.1725e-03,\n",
       "        1.1775e-03,  1.1825e-03,  1.1875e-03,  1.1925e-03,  1.1975e-03,\n",
       "        1.2025e-03,  1.2075e-03,  1.2125e-03,  1.2175e-03,  1.2225e-03,\n",
       "        1.2275e-03,  1.2325e-03,  1.2375e-03,  1.2425e-03,  1.2475e-03,\n",
       "        1.2525e-03,  1.2575e-03,  1.2625e-03,  1.2675e-03,  1.2725e-03,\n",
       "        1.2775e-03,  1.2825e-03,  1.2875e-03,  1.2925e-03,  1.2975e-03,\n",
       "        1.3025e-03,  1.3075e-03,  1.3125e-03,  1.3175e-03,  1.3225e-03,\n",
       "        1.3275e-03,  1.3325e-03,  1.3375e-03,  1.3425e-03,  1.3475e-03,\n",
       "        1.3525e-03,  1.3575e-03,  1.3625e-03,  1.3675e-03,  1.3725e-03,\n",
       "        1.3775e-03,  1.3825e-03,  1.3875e-03,  1.3925e-03,  1.3975e-03,\n",
       "        1.4025e-03,  1.4075e-03,  1.4125e-03,  1.4175e-03,  1.4225e-03,\n",
       "        1.4275e-03,  1.4325e-03,  1.4375e-03,  1.4425e-03,  1.4475e-03,\n",
       "        1.4525e-03,  1.4575e-03,  1.4625e-03,  1.4675e-03,  1.4725e-03,\n",
       "        1.4775e-03,  1.4825e-03,  1.4875e-03,  1.4925e-03,  1.4975e-03,\n",
       "        1.5025e-03,  1.5075e-03,  1.5125e-03,  1.5175e-03,  1.5225e-03,\n",
       "        1.5275e-03,  1.5325e-03,  1.5375e-03,  1.5425e-03,  1.5475e-03,\n",
       "        1.5525e-03,  1.5575e-03,  1.5625e-03,  1.5675e-03,  1.5725e-03,\n",
       "        1.5775e-03,  1.5825e-03,  1.5875e-03,  1.5925e-03,  1.5975e-03,\n",
       "        1.6025e-03,  1.6075e-03,  1.6125e-03,  1.6175e-03,  1.6225e-03,\n",
       "        1.6275e-03,  1.6325e-03,  1.6375e-03,  1.6425e-03,  1.6475e-03,\n",
       "        1.6525e-03,  1.6575e-03,  1.6625e-03,  1.6675e-03,  1.6725e-03,\n",
       "        1.6775e-03,  1.6825e-03,  1.6875e-03,  1.6925e-03,  1.6975e-03,\n",
       "        1.7025e-03,  1.7075e-03,  1.7125e-03,  1.7175e-03,  1.7225e-03,\n",
       "        1.7275e-03,  1.7325e-03,  1.7375e-03,  1.7425e-03,  1.7475e-03,\n",
       "        1.7525e-03,  1.7575e-03,  1.7625e-03,  1.7675e-03,  1.7725e-03,\n",
       "        1.7775e-03,  1.7825e-03,  1.7875e-03,  1.7925e-03,  1.7975e-03,\n",
       "        1.8025e-03,  1.8075e-03,  1.8125e-03,  1.8175e-03,  1.8225e-03,\n",
       "        1.8275e-03,  1.8325e-03,  1.8375e-03,  1.8425e-03,  1.8475e-03,\n",
       "        1.8525e-03,  1.8575e-03,  1.8625e-03,  1.8675e-03,  1.8725e-03,\n",
       "        1.8775e-03,  1.8825e-03,  1.8875e-03,  1.8925e-03,  1.8975e-03,\n",
       "        1.9025e-03,  1.9075e-03,  1.9125e-03,  1.9175e-03,  1.9225e-03,\n",
       "        1.9275e-03,  1.9325e-03,  1.9375e-03,  1.9425e-03,  1.9475e-03,\n",
       "        1.9525e-03,  1.9575e-03,  1.9625e-03,  1.9675e-03,  1.9725e-03,\n",
       "        1.9775e-03,  1.9825e-03,  1.9875e-03,  1.9925e-03,  1.9975e-03,\n",
       "        2.0025e-03,  2.0075e-03,  2.0125e-03,  2.0175e-03,  2.0225e-03,\n",
       "        2.0275e-03,  2.0325e-03,  2.0375e-03,  2.0425e-03,  2.0475e-03,\n",
       "        2.0525e-03,  2.0575e-03,  2.0625e-03,  2.0675e-03,  2.0725e-03,\n",
       "        2.0775e-03,  2.0825e-03,  2.0875e-03,  2.0925e-03,  2.0975e-03,\n",
       "        2.1025e-03,  2.1075e-03,  2.1125e-03,  2.1175e-03,  2.1225e-03,\n",
       "        2.1275e-03,  2.1325e-03,  2.1375e-03,  2.1425e-03,  2.1475e-03,\n",
       "        2.1525e-03,  2.1575e-03,  2.1625e-03,  2.1675e-03,  2.1725e-03,\n",
       "        2.1775e-03,  2.1825e-03,  2.1875e-03,  2.1925e-03,  2.1975e-03,\n",
       "        2.2025e-03,  2.2075e-03,  2.2125e-03,  2.2175e-03,  2.2225e-03,\n",
       "        2.2275e-03,  2.2325e-03,  2.2375e-03,  2.2425e-03,  2.2475e-03,\n",
       "        2.2525e-03,  2.2575e-03,  2.2625e-03,  2.2675e-03,  2.2725e-03,\n",
       "        2.2775e-03,  2.2825e-03,  2.2875e-03,  2.2925e-03,  2.2975e-03,\n",
       "        2.3025e-03,  2.3075e-03,  2.3125e-03,  2.3175e-03,  2.3225e-03,\n",
       "        2.3275e-03,  2.3325e-03,  2.3375e-03,  2.3425e-03,  2.3475e-03,\n",
       "        2.3525e-03,  2.3575e-03,  2.3625e-03,  2.3675e-03,  2.3725e-03,\n",
       "        2.3775e-03,  2.3825e-03,  2.3875e-03,  2.3925e-03,  2.3975e-03,\n",
       "        2.4025e-03,  2.4075e-03,  2.4125e-03,  2.4175e-03,  2.4225e-03,\n",
       "        2.4275e-03,  2.4325e-03,  2.4375e-03,  2.4425e-03,  2.4475e-03,\n",
       "        2.4525e-03,  2.4575e-03,  2.4625e-03,  2.4675e-03,  2.4725e-03,\n",
       "        2.4775e-03,  2.4825e-03,  2.4875e-03,  2.4925e-03,  2.4975e-03])"
      ]
     },
     "execution_count": 42,
     "metadata": {},
     "output_type": "execute_result"
    }
   ],
   "source": [
    "y[:,0]"
   ]
  },
  {
   "cell_type": "code",
   "execution_count": 36,
   "metadata": {},
   "outputs": [
    {
     "data": {
      "text/plain": [
       "<matplotlib.image.AxesImage at 0x7fc2d5231358>"
      ]
     },
     "execution_count": 36,
     "metadata": {},
     "output_type": "execute_result"
    },
    {
     "data": {
      "image/png": "[encoded data removed]",
      "text/plain": [
       "<Figure size 432x288 with 1 Axes>"
      ]
     },
     "metadata": {
      "needs_background": "light"
     },
     "output_type": "display_data"
    }
   ],
   "source": [
    "plt.imshow((all_dead*inside).astype(int))"
   ]
  },
  {
   "cell_type": "code",
   "execution_count": 34,
   "metadata": {},
   "outputs": [
    {
     "data": {
      "text/plain": [
       "array([[1, 1, 1, ..., 1, 1, 1],\n",
       "       [1, 1, 1, ..., 1, 1, 1],\n",
       "       [1, 1, 1, ..., 1, 1, 1],\n",
       "       ...,\n",
       "       [1, 1, 1, ..., 1, 1, 1],\n",
       "       [1, 1, 1, ..., 1, 1, 1],\n",
       "       [1, 1, 1, ..., 1, 1, 1]])"
      ]
     },
     "execution_count": 34,
     "metadata": {},
     "output_type": "execute_result"
    }
   ],
   "source": [
    "all_dead.astype(int)"
   ]
  },
  {
   "cell_type": "code",
   "execution_count": null,
   "metadata": {},
   "outputs": [],
   "source": []
  }
 ],
 "metadata": {
  "kernelspec": {
   "display_name": "Python 3",
   "language": "python",
   "name": "python3"
  },
  "language_info": {
   "codemirror_mode": {
    "name": "ipython",
    "version": 3
   },
   "file_extension": ".py",
   "mimetype": "text/x-python",
   "name": "python",
   "nbconvert_exporter": "python",
   "pygments_lexer": "ipython3",
   "version": "3.7.3"
  }
 },
 "nbformat": 4,
 "nbformat_minor": 2
}
